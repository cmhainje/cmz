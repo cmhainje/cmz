{
 "cells": [
  {
   "cell_type": "code",
   "execution_count": 1,
   "id": "a2adc8ce-21db-45b0-8b8f-593cffe48a44",
   "metadata": {},
   "outputs": [
    {
     "name": "stdout",
     "output_type": "stream",
     "text": [
      "Down block:\n",
      "torch.Size([4, 3, 128, 128]) -> torch.Size([4, 6, 64, 64])\n",
      "\n",
      "Up block:\n",
      "torch.Size([4, 6, 64, 64]) + torch.Size([4, 3, 128, 128]) -> torch.Size([4, 3, 128, 128])\n",
      "\n",
      "U-block:\n",
      "torch.Size([4, 3, 128, 128]) -> torch.Size([4, 3, 128, 128])\n",
      "\n",
      "U-Net:\n",
      "torch.Size([4, 3, 128, 128]) -> torch.Size([4, 1, 128, 128])\n",
      "\n",
      "Testing different hidden_channels:\n",
      "  not doubling:   [4, 6, 8]    good! torch.Size([4, 1, 128, 128])\n",
      "  going down:     [4, 2, 4]    good! torch.Size([4, 1, 128, 128])\n",
      "  ones:           [1, 1]       good! torch.Size([4, 1, 128, 128])\n"
     ]
    },
    {
     "name": "stderr",
     "output_type": "stream",
     "text": [
      "/Users/connor/code/cmz/.venv/lib/python3.12/site-packages/torch/_subclasses/functional_tensor.py:258: UserWarning: Failed to initialize NumPy: No module named 'numpy' (Triggered internally at /Users/runner/work/pytorch/pytorch/pytorch/torch/csrc/utils/tensor_numpy.cpp:84.)\n",
      "  cpu = _conversion_method_template(device=torch.device(\"cpu\"))\n"
     ]
    }
   ],
   "source": [
    "import torch\n",
    "import cmz.torch.unet as unet\n",
    "\n",
    "# dummy data\n",
    "X = torch.rand((4, 3, 128, 128))\n",
    "\n",
    "net = unet.DownBlock(3, 6)\n",
    "Y = net(X)\n",
    "print('Down block:')\n",
    "print(X.shape, '->', Y.shape)\n",
    "\n",
    "net = unet.UpBlock(6, 3)\n",
    "print('\\nUp block:')\n",
    "print(Y.shape, '+', X.shape, '->', net(Y, X).shape)\n",
    "\n",
    "net = unet.UBlock(3, 6)\n",
    "print('\\nU-block:')\n",
    "print(X.shape, '->', net(X, None).shape)\n",
    "\n",
    "net = unet.UNet(3, 1, hidden_channels=[4, 8, 16])\n",
    "print('\\nU-Net:')\n",
    "print(X.shape, '->', net(X).shape)\n",
    "\n",
    "expected_shape = torch.Size([4, 1, 128, 128])\n",
    "\n",
    "print('\\nTesting different hidden_channels:')\n",
    "fmt = \"  {:<15} {:<12} {}\"\n",
    "for h, label in [\n",
    "    ([4, 6, 8], \"not doubling\"),\n",
    "    ([4, 2, 4], \"going down\"),\n",
    "    ([1, 1], \"ones\"),\n",
    "]:\n",
    "    net = unet.UNet(3, 1, hidden_channels=h)\n",
    "    print(\n",
    "        fmt.format(\n",
    "            f\"{label}:\",\n",
    "            f\"{h}\",\n",
    "            (\"good! \" if net(X).shape == expected_shape else \"weird shape: \") + str(expected_shape)\n",
    "        )\n",
    "    )"
   ]
  },
  {
   "cell_type": "code",
   "execution_count": null,
   "id": "75faf98f-3f07-4c9c-b99e-3c372263350b",
   "metadata": {},
   "outputs": [],
   "source": []
  }
 ],
 "metadata": {
  "kernelspec": {
   "display_name": "Poetry",
   "language": "python",
   "name": "poetry-kernel"
  },
  "language_info": {
   "codemirror_mode": {
    "name": "ipython",
    "version": 3
   },
   "file_extension": ".py",
   "mimetype": "text/x-python",
   "name": "python",
   "nbconvert_exporter": "python",
   "pygments_lexer": "ipython3",
   "version": "3.12.5"
  }
 },
 "nbformat": 4,
 "nbformat_minor": 5
}
